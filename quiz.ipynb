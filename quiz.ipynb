{
 "cells": [
  {
   "cell_type": "markdown",
   "id": "409c3b3a",
   "metadata": {},
   "source": [
    "# QUIZ GAME"
   ]
  },
  {
   "cell_type": "code",
   "execution_count": null,
   "id": "ee683444",
   "metadata": {},
   "outputs": [
    {
     "name": "stdout",
     "output_type": "stream",
     "text": [
      "WELCOME TO COMPUTER QUIZ!\n"
     ]
    },
    {
     "name": "stdout",
     "output_type": "stream",
     "text": [
      "Okay! Let's play: \n",
      "\n",
      "Correct!\n",
      "Correct!\n",
      "Correct!\n",
      "Incorrect!\n",
      "\n",
      "You got 3 out of 4 correctly 75%.\n",
      "\n",
      "Correct!\n",
      "Correct!\n",
      "Incorrect!\n"
     ]
    }
   ],
   "source": [
    "questions = {\n",
    "    \"What does CPU stand for\" : \"Central Processing Unit\",\n",
    "    \"What does GPU stand for\" : \"Graphics Processing Unit\",\n",
    "    \"What does RAM stand for\" : \"Random Access Memory\",\n",
    "    \"What does PSU stand for\" : \"Power Supply\"\n",
    "}\n",
    "\n",
    "print(\"WELCOME TO COMPUTER QUIZ!\")\n",
    "\n",
    "while True:\n",
    "    playing = input(\"Do you want to play (yes/no): \").strip().lower()\n",
    "    if playing == \"no\":\n",
    "        print(\"Alright, maybe next time!\")\n",
    "        break\n",
    "    elif playing == \"yes\":\n",
    "        print(\"Okay! Let's play: \\n\")\n",
    "        total = len(questions)\n",
    "        score = 0\n",
    "\n",
    "        while score < total:\n",
    "            score = 0\n",
    "            for q, a in questions.items():\n",
    "                answer = input(f\"{q}: \").strip().title()\n",
    "                if answer == a:\n",
    "                    print(\"Correct!\")\n",
    "                    score += 1\n",
    "                else:\n",
    "                    print(\"Incorrect!\")\n",
    "            print(f\"\\nYou got {score} out of {total} correctly {score / total * 100 :.0f}%.\\n\")\n",
    "        if score < total:\n",
    "            print(\"Not perfect yet, try again\")\n",
    "        else:\n",
    "            print(\"PERFECT! Thanks for playing.\\n\")\n",
    "            break\n",
    "    else:\n",
    "        print(\"Invalid option. Please enter (yes/no)\")"
   ]
  }
 ],
 "metadata": {
  "kernelspec": {
   "display_name": "Python 3",
   "language": "python",
   "name": "python3"
  },
  "language_info": {
   "codemirror_mode": {
    "name": "ipython",
    "version": 3
   },
   "file_extension": ".py",
   "mimetype": "text/x-python",
   "name": "python",
   "nbconvert_exporter": "python",
   "pygments_lexer": "ipython3",
   "version": "3.13.0"
  }
 },
 "nbformat": 4,
 "nbformat_minor": 5
}
